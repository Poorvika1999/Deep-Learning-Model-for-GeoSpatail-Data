{
 "cells": [
  {
   "cell_type": "code",
   "execution_count": 1,
   "metadata": {},
   "outputs": [],
   "source": [
    "# Importing Necessary Libraries\n",
    "import cdsapi\n",
    "import numpy as np\n",
    "import pandas as pd\n",
    "import xarray as xr\n",
    "from scipy import stats\n",
    "from sklearn.metrics import mean_squared_error\n",
    "from torch.utils.data import Dataset\n",
    "from torch.utils.data import DataLoader\n",
    "from torch.utils.data import random_split\n",
    "from torch import Tensor\n",
    "from torch.nn import Linear\n",
    "from torch.nn import Sigmoid\n",
    "from torch.nn import Module\n",
    "from torch.optim import SGD\n",
    "from torch.nn import MSELoss\n",
    "from torch.nn.init import xavier_uniform_"
   ]
  },
  {
   "cell_type": "code",
   "execution_count": 1,
   "metadata": {},
   "outputs": [],
   "source": [
    "# CDS API Client Call\n",
    "c = cdsapi.Client()\n",
    "\n",
    "#Retrieve  Data for 2m Temperature from 1st December 2019 to 7th December 2019\n",
    "c.retrieve(\n",
    "    'reanalysis-era5-land',\n",
    "    {\n",
    "        'format': 'netcdf',\n",
    "        'variable': '2m_temperature',\n",
    "        'year': '2019',\n",
    "        'month': '12',\n",
    "        'day': [\n",
    "            '01', '02', '03',\n",
    "            '04', '05', '06',\n",
    "            '07',\n",
    "        ],\n",
    "        'time': '12:00',\n",
    "    },\n",
    "    '2m_temperature.nc')\n",
    "\n",
    "#Retrieve  Data for Total Precipitation from 1st December 2019 to 7th December 2019\n",
    "c.retrieve(\n",
    "    'reanalysis-era5-land',\n",
    "    {\n",
    "        'format': 'netcdf',\n",
    "        'variable': 'total_precipitation',\n",
    "        'year': '2019',\n",
    "        'month': '12',\n",
    "        'day': [\n",
    "            '01', '02', '03',\n",
    "            '04', '05', '06',\n",
    "            '07',\n",
    "        ],\n",
    "        'time': '12:00',\n",
    "    },\n",
    "    'total_precipitation.nc')\n",
    "\n",
    "#Retrieve  Data for Volumetric Soil Water Layer 1 from 1st December 2019 to 7th December 2019\n",
    "c.retrieve(\n",
    "    'reanalysis-era5-land',\n",
    "    {\n",
    "        'format': 'netcdf',\n",
    "        'variable': 'volumetric_soil_water_layer_1',\n",
    "        'year': '2019',\n",
    "        'month': '12',\n",
    "        'day': [\n",
    "            '01', '02', '03',\n",
    "            '04', '05', '06',\n",
    "            '07',\n",
    "        ],\n",
    "        'time': '12:00',\n",
    "    },\n",
    "    'volumetric_soil_water_layer_1.nc')"
   ]
  },
  {
   "cell_type": "code",
   "execution_count": 1,
   "metadata": {},
   "outputs": [],
   "source": [
    "#Open and describe 2m Temperature\n",
    "A = xr.open_dataset(\"2m_temperature.nc\")\n",
    "A"
   ]
  },
  {
   "cell_type": "code",
   "execution_count": 1,
   "metadata": {},
   "outputs": [],
   "source": [
    "#Open and describe Volumetric Soil Water Layer 1\n",
    "B = xr.open_dataset(\"volumetric_soil_water_layer_1.nc\")\n",
    "B"
   ]
  },
  {
   "cell_type": "code",
   "execution_count": 1,
   "metadata": {},
   "outputs": [],
   "source": [
    "#Open and describe Total Precipitation\n",
    "C = xr.open_dataset(\"total_precipitation.nc\")\n",
    "C"
   ]
  },
  {
   "cell_type": "code",
   "execution_count": 1,
   "metadata": {},
   "outputs": [],
   "source": [
    "#Merge 2m Temperature, Volumetric Soil Water Layer 1 & Total Precipitation into one\n",
    "#Using common dimensions latitude, longitude & time\n",
    "D = xr.merge([A, B, C], compat=\"override\")\n",
    "D"
   ]
  },
  {
   "cell_type": "code",
   "execution_count": 1,
   "metadata": {},
   "outputs": [],
   "source": [
    "#Mean\n",
    "D.mean(skipna = \"true\")\n",
    "#Median\n",
    "D.median(skipna = \"true\")\n",
    "#Standard Deviation\n",
    "D.std(skipna = \"true\")\n",
    "#Variance\n",
    "D.var(skipna = \"true\")\n",
    "#From standard deviation and variance it was clear that the spread of 2m temperature was well across\n",
    "#the whole range and did not need any processing. While the spread of volumetric soil water layer data\n",
    "#was not as well spread but was well enough for any processing needs.\n",
    "#The total precipitation on other hand was left skewed and needed normalisation such as boxcox normalisation.\n",
    "#Check for NULL/NaN values\n",
    "D.isnull()"
   ]
  },
  {
   "cell_type": "code",
   "execution_count": 1,
   "metadata": {},
   "outputs": [],
   "source": [
    "#Dropping NaN values as they are for co-ordinates that refer to the oceanic waters\n",
    "#and are not required for last mile prediction of land climate.\n",
    "A = A.dropna(dim = \"latitude\", how = \"all\")\n",
    "B = B.dropna(dim = \"latitude\", how = \"all\")\n",
    "C = C.dropna(dim = \"latitude\", how = \"all\")\n",
    "D = D.dropna(dim = \"latitude\", how = \"all\")"
   ]
  },
  {
   "cell_type": "code",
   "execution_count": 1,
   "metadata": {},
   "outputs": [],
   "source": [
    "#2m Temperature for 3-12-2019\n",
    "D.t2m.sel(time=\"2019-12-03\").plot()\n",
    "#Spread of 2m Temperature throughout the dataset\n",
    "D.t2m.plot()"
   ]
  },
  {
   "cell_type": "code",
   "execution_count": 1,
   "metadata": {},
   "outputs": [],
   "source": [
    "#Volumetric Soil Water Layer 1 for 3-12-2019\n",
    "D.swvl1.sel(time=\"2019-12-03\").plot()\n",
    "#Spread of Volumetric Soil Water layer 1 throughout the dataset\n",
    "D.swvl1.plot()"
   ]
  },
  {
   "cell_type": "code",
   "execution_count": 1,
   "metadata": {},
   "outputs": [],
   "source": [
    "#Total Precipitation for 3-12-2019\n",
    "D.tp.sel(time=\"2019-12-03\").plot()\n",
    "#Spread of total precipitation throughout the dataset\n",
    "D.tp.plot()"
   ]
  },
  {
   "cell_type": "code",
   "execution_count": 1,
   "metadata": {},
   "outputs": [],
   "source": [
    "#Interpolating data to reduce the gap in latitude and longitude from 0.1 to 0.05\n",
    "#Thus quadrupling the dataset and increasing the prediction at last mile\n",
    "#Creating New lognitude values at 0.05 difference\n",
    "new_lon = np.linspace(A.longitude[0], A.longitude[-1], A.dims[\"longitude\"] * 2)\n",
    "#Creating New latitude values at 0.05 difference\n",
    "new_lat = np.linspace(A.latitude[0], A.latitude[-1], A.dims[\"latitude\"] * 2)\n",
    "#Interpolating 2m teperature dataset for new latitude and longitude values\n",
    "AI = A.interp(latitude=new_lat, longitude=new_lon)"
   ]
  },
  {
   "cell_type": "code",
   "execution_count": 1,
   "metadata": {},
   "outputs": [],
   "source": [
    "new_lon = np.linspace(B.longitude[0], B.longitude[-1], B.dims[\"longitude\"] * 2)\n",
    "new_lat = np.linspace(B.latitude[0], B.latitude[-1], B.dims[\"latitude\"] * 2)\n",
    "#Interpolating volumetric soil wat dataset for new latitude and longitude values\n",
    "BI = B.interp(latitude=new_lat, longitude=new_lon)"
   ]
  },
  {
   "cell_type": "code",
   "execution_count": 1,
   "metadata": {},
   "outputs": [],
   "source": [
    "new_lon = np.linspace(C.longitude[0], C.longitude[-1], C.dims[\"longitude\"] * 2)\n",
    "new_lat = np.linspace(C.latitude[0], C.latitude[-1], C.dims[\"latitude\"] * 2)\n",
    "CI = C.interp(latitude=new_lat, longitude=new_lon)"
   ]
  },
  {
   "cell_type": "code",
   "execution_count": 1,
   "metadata": {},
   "outputs": [],
   "source": [
    "#Creating new merged and interpolated dataset\n",
    "DI = xr.merge([AI, BI, CI], compat=\"override\")\n",
    "DI.to_netcdf(\"Interpolated_Data.nc\")"
   ]
  },
  {
   "cell_type": "code",
   "execution_count": 2,
   "metadata": {},
   "outputs": [],
   "source": [
    "# dataset definition\n",
    "class CSVDataset(Dataset):\n",
    "    # load the dataset\n",
    "    def __init__(self, path):\n",
    "        # load the file as a dataframe\n",
    "        df = xr.open_dataset(path).to_dataframe()\n",
    "        df = df.dropna()\n",
    "        # store the inputs and outputs\n",
    "        self.X = df.values[:, -4:-1].astype('float32')\n",
    "        self.y = df.values[:, -1].astype('float32')\n",
    "        # ensure target has the right shape\n",
    "        self.y = self.y.reshape((len(self.y), 1))\n",
    " \n",
    "    # number of rows in the dataset\n",
    "    def __len__(self):\n",
    "        return len(self.X)\n",
    " \n",
    "    # get a row at an index\n",
    "    def __getitem__(self, idx):\n",
    "        return [self.X[idx], self.y[idx]]\n",
    " \n",
    "    # get indexes for train, validate and test rows\n",
    "    def get_splits(self, n_test=0.1, n_val=0.1):\n",
    "        # determine sizes\n",
    "        test_size = round(n_test * len(self.X))\n",
    "        val_size = round(n_val * len(self.X))\n",
    "        train_size = len(self.X) - test_size - val_size\n",
    "        # calculate the split\n",
    "        return random_split(self, [train_size, val_size, test_size])"
   ]
  },
  {
   "cell_type": "code",
   "execution_count": 3,
   "metadata": {},
   "outputs": [],
   "source": [
    "# model definition\n",
    "class MLP(Module):\n",
    "    # define model elements\n",
    "    def __init__(self, n_inputs):\n",
    "        super(MLP, self).__init__()\n",
    "        # input to first hidden layer\n",
    "        self.hidden1 = Linear(n_inputs, 10)\n",
    "        xavier_uniform_(self.hidden1.weight)\n",
    "        self.act1 = Sigmoid()\n",
    "        # second hidden layer\n",
    "        self.hidden2 = Linear(10, 8)\n",
    "        xavier_uniform_(self.hidden2.weight)\n",
    "        self.act2 = Sigmoid()\n",
    "        # third hidden layer and output\n",
    "        self.hidden3 = Linear(8, 1)\n",
    "        xavier_uniform_(self.hidden3.weight)\n",
    " \n",
    "    # forward propagate input\n",
    "    def forward(self, X):\n",
    "        # input to first hidden layer\n",
    "        X = self.hidden1(X)\n",
    "        X = self.act1(X)\n",
    "         # second hidden layer\n",
    "        X = self.hidden2(X)\n",
    "        X = self.act2(X)\n",
    "        # third hidden layer and output\n",
    "        X = self.hidden3(X)\n",
    "        return X"
   ]
  },
  {
   "cell_type": "code",
   "execution_count": 4,
   "metadata": {},
   "outputs": [],
   "source": [
    "# prepare the dataset\n",
    "def prepare_data(path):\n",
    "    # load the dataset\n",
    "    dataset = CSVDataset(path)\n",
    "    # calculate split\n",
    "    train, validate, test = dataset.get_splits()\n",
    "    # prepare data loaders\n",
    "    train_dl = DataLoader(train, batch_size=32, shuffle=False)\n",
    "    val_dl = DataLoader(validate, batch_size=32, shuffle=False)\n",
    "    test_dl = DataLoader(test, batch_size=1024, shuffle=False)\n",
    "    return train_dl, val_dl, test_dl"
   ]
  },
  {
   "cell_type": "code",
   "execution_count": 5,
   "metadata": {},
   "outputs": [],
   "source": [
    "# train the model\n",
    "def train_model(train_dl, model):\n",
    "    # define the optimization\n",
    "    criterion = MSELoss()\n",
    "    optimizer = SGD(model.parameters(), lr=0.01, momentum=0.9)\n",
    "    # enumerate epochs\n",
    "    for epoch in range(100):\n",
    "        # enumerate mini batches\n",
    "        for i, (inputs, targets) in enumerate(train_dl):\n",
    "            # clear the gradients\n",
    "            optimizer.zero_grad()\n",
    "            # compute the model output\n",
    "            yhat = model(inputs)\n",
    "            # calculate loss\n",
    "            loss = criterion(yhat, targets)\n",
    "            # credit assignment\n",
    "            loss.backward()\n",
    "            # update model weights\n",
    "            optimizer.step()"
   ]
  },
  {
   "cell_type": "code",
   "execution_count": 6,
   "metadata": {},
   "outputs": [],
   "source": [
    "# evaluate the model\n",
    "def evaluate_model(test_dl, model):\n",
    "    predictions, actuals = list(), list()\n",
    "    for i, (inputs, targets) in enumerate(test_dl):\n",
    "        # evaluate the model on the test set\n",
    "        yhat = model(inputs)\n",
    "        # retrieve numpy array\n",
    "        yhat = yhat.detach().numpy()\n",
    "        actual = targets.numpy()\n",
    "        actual = actual.reshape((len(actual), 1))\n",
    "        # store\n",
    "        predictions.append(yhat)\n",
    "        actuals.append(actual)\n",
    "    predictions, actuals = vstack(predictions), vstack(actuals)\n",
    "    # calculate mse\n",
    "    mse = mean_squared_error(actuals, predictions)\n",
    "    return mse"
   ]
  },
  {
   "cell_type": "code",
   "execution_count": 7,
   "metadata": {},
   "outputs": [],
   "source": [
    "# make a class prediction for one row of data\n",
    "def predict(row, model):\n",
    "    # convert row to data\n",
    "    row = Tensor([row])\n",
    "    # make prediction\n",
    "    yhat = model(row)\n",
    "    # retrieve numpy array\n",
    "    yhat = yhat.detach().numpy()\n",
    "    return yhat"
   ]
  },
  {
   "cell_type": "code",
   "execution_count": null,
   "metadata": {},
   "outputs": [
    {
     "name": "stdout",
     "output_type": "stream",
     "text": [
      "46942823 5867853 5867853\n"
     ]
    }
   ],
   "source": [
    "# prepare the data\n",
    "path = \"Interpolated_Data.nc\"\n",
    "train_dl, val_dl, test_dl = prepare_data(path)\n",
    "print(len(train_dl.dataset), len(val_dl.dataset), len(test_dl.dataset))\n",
    "# define the network\n",
    "model = MLP(2)\n",
    "# train the model\n",
    "train_model(train_dl, model)\n",
    "# evaluate the model\n",
    "mse = evaluate_model(test_dl, model)\n",
    "print('MSE: %.3f, RMSE: %.3f' % (mse, sqrt(mse)))\n",
    "# make a single prediction (expect class=1)\n",
    "#row = [0.00632,18.00,2.310,0,0.5380,6.5750,65.20,4.0900,1,296.0,15.30,396.90,4.98]\n",
    "#yhat = predict(row, model)\n",
    "#print('Predicted: %.3f' % yhat)"
   ]
  },
  {
   "cell_type": "code",
   "execution_count": null,
   "metadata": {},
   "outputs": [],
   "source": []
  }
 ],
 "metadata": {
  "kernelspec": {
   "display_name": "Python 3",
   "language": "python",
   "name": "python3"
  },
  "language_info": {
   "codemirror_mode": {
    "name": "ipython",
    "version": 3
   },
   "file_extension": ".py",
   "mimetype": "text/x-python",
   "name": "python",
   "nbconvert_exporter": "python",
   "pygments_lexer": "ipython3",
   "version": "3.6.8"
  }
 },
 "nbformat": 4,
 "nbformat_minor": 4
}
